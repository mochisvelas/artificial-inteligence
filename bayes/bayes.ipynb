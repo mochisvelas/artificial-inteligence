{
 "cells": [
  {
   "cell_type": "code",
   "execution_count": 1,
   "id": "c737887a",
   "metadata": {},
   "outputs": [],
   "source": [
    "import pyAgrum as gum"
   ]
  },
  {
   "cell_type": "markdown",
   "id": "9337253b",
   "metadata": {},
   "source": [
    "# Red Bayesiana"
   ]
  },
  {
   "cell_type": "code",
   "execution_count": 2,
   "id": "a0c608f0",
   "metadata": {},
   "outputs": [],
   "source": [
    "# Create Bayes Net\n",
    "bn = gum.BayesNet()"
   ]
  },
  {
   "cell_type": "code",
   "execution_count": 3,
   "id": "5b565573",
   "metadata": {},
   "outputs": [],
   "source": [
    "# Add variables"
   ]
  },
  {
   "cell_type": "code",
   "execution_count": 4,
   "id": "d0974d7b",
   "metadata": {},
   "outputs": [
    {
     "name": "stdout",
     "output_type": "stream",
     "text": [
      "0\n"
     ]
    }
   ],
   "source": [
    "b = bn.add(gum.LabelizedVariable('b', 'Burglary ?', 2))\n",
    "print(b)"
   ]
  },
  {
   "cell_type": "code",
   "execution_count": 5,
   "id": "9a6f9e95",
   "metadata": {},
   "outputs": [
    {
     "name": "stdout",
     "output_type": "stream",
     "text": [
      "1\n"
     ]
    }
   ],
   "source": [
    "e = bn.add(gum.LabelizedVariable('e', 'Earthquake ?', 2))\n",
    "print(e)"
   ]
  },
  {
   "cell_type": "code",
   "execution_count": 6,
   "id": "57350e7c",
   "metadata": {},
   "outputs": [
    {
     "name": "stdout",
     "output_type": "stream",
     "text": [
      "2\n"
     ]
    }
   ],
   "source": [
    "m = bn.add(gum.LabelizedVariable('m', 'Mary_calls ?', 2))\n",
    "print(m)"
   ]
  },
  {
   "cell_type": "code",
   "execution_count": 7,
   "id": "6f7c1a22",
   "metadata": {},
   "outputs": [
    {
     "name": "stdout",
     "output_type": "stream",
     "text": [
      "3\n"
     ]
    }
   ],
   "source": [
    "j = bn.add(gum.LabelizedVariable('j', 'John_calls ?', 2))\n",
    "print(j)"
   ]
  },
  {
   "cell_type": "code",
   "execution_count": 8,
   "id": "925ae80f",
   "metadata": {},
   "outputs": [
    {
     "name": "stdout",
     "output_type": "stream",
     "text": [
      "4\n"
     ]
    }
   ],
   "source": [
    "a = bn.add(gum.LabelizedVariable('a', 'Alarm ?', 2))\n",
    "print(a)"
   ]
  },
  {
   "cell_type": "code",
   "execution_count": 9,
   "id": "3fbc9df6",
   "metadata": {},
   "outputs": [],
   "source": [
    "# Add arcs"
   ]
  },
  {
   "cell_type": "code",
   "execution_count": 10,
   "id": "2b7d4e9b",
   "metadata": {},
   "outputs": [],
   "source": [
    "bn.addArc(b, a)\n",
    "bn.addArc(e, a)\n",
    "bn.addArc(a, m)\n",
    "bn.addArc(a, j)"
   ]
  },
  {
   "cell_type": "code",
   "execution_count": 11,
   "id": "6e102ede",
   "metadata": {},
   "outputs": [
    {
     "name": "stdout",
     "output_type": "stream",
     "text": [
      "BN{nodes: 5, arcs: 4, domainSize: 32, dim: 20}\n"
     ]
    }
   ],
   "source": [
    "print(bn)"
   ]
  },
  {
   "cell_type": "code",
   "execution_count": 12,
   "id": "1d8be247",
   "metadata": {
    "scrolled": true
   },
   "outputs": [],
   "source": [
    "import pyAgrum.lib.notebook as gnb"
   ]
  },
  {
   "cell_type": "code",
   "execution_count": 13,
   "id": "dcc1280b",
   "metadata": {
    "scrolled": true
   },
   "outputs": [
    {
     "data": {
      "text/html": [
       "<svg xmlns=\"http://www.w3.org/2000/svg\" xmlns:xlink=\"http://www.w3.org/1999/xlink\" width=\"134pt\" height=\"188pt\" viewBox=\"0.00 0.00 134.00 188.00\">\n",
       "<g id=\"graph0\" class=\"graph\" transform=\"scale(1 1) rotate(0) translate(4 184)\">\n",
       "<title>G</title>\n",
       "<!-- m -->\n",
       "<g id=\"node1\" class=\"node\">\n",
       "<title>m</title>\n",
       "<g id=\"a_node1\"><a xlink:title=\"(2) m\">\n",
       "<ellipse fill=\"#404040\" stroke=\"black\" cx=\"27\" cy=\"-18\" rx=\"27\" ry=\"18\"/>\n",
       "<text text-anchor=\"middle\" x=\"27\" y=\"-14.3\" font-family=\"Times,serif\" font-size=\"14.00\" fill=\"white\">m</text>\n",
       "</a>\n",
       "</g>\n",
       "</g>\n",
       "<!-- j -->\n",
       "<g id=\"node2\" class=\"node\">\n",
       "<title>j</title>\n",
       "<g id=\"a_node2\"><a xlink:title=\"(3) j\">\n",
       "<ellipse fill=\"#404040\" stroke=\"black\" cx=\"99\" cy=\"-18\" rx=\"27\" ry=\"18\"/>\n",
       "<text text-anchor=\"middle\" x=\"99\" y=\"-14.3\" font-family=\"Times,serif\" font-size=\"14.00\" fill=\"white\">j</text>\n",
       "</a>\n",
       "</g>\n",
       "</g>\n",
       "<!-- a -->\n",
       "<g id=\"node3\" class=\"node\">\n",
       "<title>a</title>\n",
       "<g id=\"a_node3\"><a xlink:title=\"(4) a\">\n",
       "<ellipse fill=\"#404040\" stroke=\"black\" cx=\"63\" cy=\"-90\" rx=\"27\" ry=\"18\"/>\n",
       "<text text-anchor=\"middle\" x=\"63\" y=\"-86.3\" font-family=\"Times,serif\" font-size=\"14.00\" fill=\"white\">a</text>\n",
       "</a>\n",
       "</g>\n",
       "</g>\n",
       "<!-- a&#45;&gt;m -->\n",
       "<g id=\"edge1\" class=\"edge\">\n",
       "<title>a-&gt;m</title>\n",
       "<g id=\"a_edge1\"><a xlink:title=\"(4, 2) : \">\n",
       "<path fill=\"none\" stroke=\"#4a4a4a\" d=\"M54.65,-72.76C50.29,-64.28 44.85,-53.71 39.96,-44.2\"/>\n",
       "<polygon fill=\"#4a4a4a\" stroke=\"#4a4a4a\" points=\"42.99,-42.44 35.3,-35.15 36.77,-45.64 42.99,-42.44\"/>\n",
       "</a>\n",
       "</g>\n",
       "</g>\n",
       "<!-- a&#45;&gt;j -->\n",
       "<g id=\"edge4\" class=\"edge\">\n",
       "<title>a-&gt;j</title>\n",
       "<g id=\"a_edge4\"><a xlink:title=\"(4, 3) : \">\n",
       "<path fill=\"none\" stroke=\"#4a4a4a\" d=\"M71.35,-72.76C75.71,-64.28 81.15,-53.71 86.04,-44.2\"/>\n",
       "<polygon fill=\"#4a4a4a\" stroke=\"#4a4a4a\" points=\"89.23,-45.64 90.7,-35.15 83.01,-42.44 89.23,-45.64\"/>\n",
       "</a>\n",
       "</g>\n",
       "</g>\n",
       "<!-- b -->\n",
       "<g id=\"node4\" class=\"node\">\n",
       "<title>b</title>\n",
       "<g id=\"a_node4\"><a xlink:title=\"(0) b\">\n",
       "<ellipse fill=\"#404040\" stroke=\"black\" cx=\"27\" cy=\"-162\" rx=\"27\" ry=\"18\"/>\n",
       "<text text-anchor=\"middle\" x=\"27\" y=\"-158.3\" font-family=\"Times,serif\" font-size=\"14.00\" fill=\"white\">b</text>\n",
       "</a>\n",
       "</g>\n",
       "</g>\n",
       "<!-- b&#45;&gt;a -->\n",
       "<g id=\"edge2\" class=\"edge\">\n",
       "<title>b-&gt;a</title>\n",
       "<g id=\"a_edge2\"><a xlink:title=\"(0, 4) : \">\n",
       "<path fill=\"none\" stroke=\"#4a4a4a\" d=\"M35.35,-144.76C39.71,-136.28 45.15,-125.71 50.04,-116.2\"/>\n",
       "<polygon fill=\"#4a4a4a\" stroke=\"#4a4a4a\" points=\"53.23,-117.64 54.7,-107.15 47.01,-114.44 53.23,-117.64\"/>\n",
       "</a>\n",
       "</g>\n",
       "</g>\n",
       "<!-- e -->\n",
       "<g id=\"node5\" class=\"node\">\n",
       "<title>e</title>\n",
       "<g id=\"a_node5\"><a xlink:title=\"(1) e\">\n",
       "<ellipse fill=\"#404040\" stroke=\"black\" cx=\"99\" cy=\"-162\" rx=\"27\" ry=\"18\"/>\n",
       "<text text-anchor=\"middle\" x=\"99\" y=\"-158.3\" font-family=\"Times,serif\" font-size=\"14.00\" fill=\"white\">e</text>\n",
       "</a>\n",
       "</g>\n",
       "</g>\n",
       "<!-- e&#45;&gt;a -->\n",
       "<g id=\"edge3\" class=\"edge\">\n",
       "<title>e-&gt;a</title>\n",
       "<g id=\"a_edge3\"><a xlink:title=\"(1, 4) : \">\n",
       "<path fill=\"none\" stroke=\"#4a4a4a\" d=\"M90.65,-144.76C86.29,-136.28 80.85,-125.71 75.96,-116.2\"/>\n",
       "<polygon fill=\"#4a4a4a\" stroke=\"#4a4a4a\" points=\"78.99,-114.44 71.3,-107.15 72.77,-117.64 78.99,-114.44\"/>\n",
       "</a>\n",
       "</g>\n",
       "</g>\n",
       "</g>\n",
       "</svg>"
      ],
      "text/plain": [
       "(gum::BayesNet<double>@0x1b2fe10) BN{nodes: 5, arcs: 4, domainSize: 32, dim: 20}"
      ]
     },
     "execution_count": 13,
     "metadata": {},
     "output_type": "execute_result"
    }
   ],
   "source": [
    "bn"
   ]
  },
  {
   "cell_type": "code",
   "execution_count": 14,
   "id": "b631ddfc",
   "metadata": {},
   "outputs": [],
   "source": [
    "# Add values"
   ]
  },
  {
   "cell_type": "markdown",
   "id": "d276880b",
   "metadata": {},
   "source": [
    "### B"
   ]
  },
  {
   "cell_type": "code",
   "execution_count": 15,
   "id": "a9fcd754",
   "metadata": {},
   "outputs": [
    {
     "data": {
      "text/html": [
       "<table style=\"border:1px solid black;\">\n",
       "<tr style='border:1px solid black;color:black;background-color:#808080'><th colspan='2'><center>b</center></th></tr>\n",
       "<tr><th style='border:1px solid black;border-bottom-style: double;color:black;background-color:#BBBBBB'><center>0</center></th><th style='border:1px solid black;border-bottom-style: double;color:black;background-color:#BBBBBB'><center>1</center></th></tr>\n",
       "<tr><td style='color:black;background-color:#7ffe64;text-align:right;'>0.9990</td><td style='color:black;background-color:#fe7f64;text-align:right;'>0.0010</td></tr>\n",
       "</table>"
      ],
      "text/plain": [
       "(gum::Potential<double>@0x1b22f10) \n",
       "  b                |\n",
       "0        |1        |\n",
       "---------|---------|\n",
       " 0.9990  | 0.0010  |"
      ]
     },
     "execution_count": 15,
     "metadata": {},
     "output_type": "execute_result"
    }
   ],
   "source": [
    "bn.cpt(b).fillWith([0.999,0.001])"
   ]
  },
  {
   "cell_type": "markdown",
   "id": "9a58831b",
   "metadata": {},
   "source": [
    "### E"
   ]
  },
  {
   "cell_type": "code",
   "execution_count": 16,
   "id": "6134aab8",
   "metadata": {},
   "outputs": [
    {
     "data": {
      "text/html": [
       "<table style=\"border:1px solid black;\">\n",
       "<tr style='border:1px solid black;color:black;background-color:#808080'><th colspan='2'><center>e</center></th></tr>\n",
       "<tr><th style='border:1px solid black;border-bottom-style: double;color:black;background-color:#BBBBBB'><center>0</center></th><th style='border:1px solid black;border-bottom-style: double;color:black;background-color:#BBBBBB'><center>1</center></th></tr>\n",
       "<tr><td style='color:black;background-color:#7ffe64;text-align:right;'>0.9980</td><td style='color:black;background-color:#fe7f64;text-align:right;'>0.0020</td></tr>\n",
       "</table>"
      ],
      "text/plain": [
       "(gum::Potential<double>@0x1764980) \n",
       "  e                |\n",
       "0        |1        |\n",
       "---------|---------|\n",
       " 0.9980  | 0.0020  |"
      ]
     },
     "execution_count": 16,
     "metadata": {},
     "output_type": "execute_result"
    }
   ],
   "source": [
    "bn.cpt(e).fillWith([0.998,0.002])"
   ]
  },
  {
   "cell_type": "markdown",
   "id": "23b5efdc",
   "metadata": {},
   "source": [
    "### A"
   ]
  },
  {
   "cell_type": "code",
   "execution_count": 17,
   "id": "1257ede9",
   "metadata": {},
   "outputs": [
    {
     "data": {
      "text/html": [
       "<table style=\"border:1px solid black;\">\n",
       "<tr><th colspan='2'></th><th colspan='2' style='border:1px solid black;color:black;background-color:#808080;'><center>a</center></th></tr>\n",
       "<tr><th style='border:1px solid black;color:black;background-color:#808080'><center>e</center></th><th style='border:1px solid black;color:black;background-color:#808080'><center>b</center></th><th style='border:1px solid black;border-bottom-style: double;color:black;background-color:#BBBBBB'><center>0</center></th><th style='border:1px solid black;border-bottom-style: double;color:black;background-color:#BBBBBB'><center>1</center></th></tr>\n",
       "<tr><th style='border:1px solid black;color:black;background-color:#BBBBBB;' rowspan = '2'><center>0</center></th><th style='border:1px solid black;color:black;background-color:#BBBBBB'><center>0</center></th><td style='color:black;background-color:#7ffe64;text-align:right;'>0.9990</td><td style='color:black;background-color:#fe7f64;text-align:right;'>0.0010</td></tr>\n",
       "<tr><th style='border:1px solid black;color:black;background-color:#BBBBBB'><center>1</center></th><td style='color:black;background-color:#f78664;text-align:right;'>0.0600</td><td style='color:black;background-color:#86f764;text-align:right;'>0.9400</td></tr>\n",
       "<tr><th style='border:1px solid black;color:black;background-color:#BBBBBB;' rowspan = '2'><center>1</center></th><th style='border:1px solid black;color:black;background-color:#BBBBBB'><center>0</center></th><td style='color:black;background-color:#a4d964;text-align:right;'>0.7100</td><td style='color:black;background-color:#d9a464;text-align:right;'>0.2900</td></tr>\n",
       "<tr><th style='border:1px solid black;color:black;background-color:#BBBBBB'><center>1</center></th><td style='color:black;background-color:#f88564;text-align:right;'>0.0500</td><td style='color:black;background-color:#85f864;text-align:right;'>0.9500</td></tr>\n",
       "</table>"
      ],
      "text/plain": [
       "(gum::Potential<double>@0x1b08d50) \n",
       "             ||  a                |\n",
       "b     |e     ||0        |1        |\n",
       "------|------||---------|---------|\n",
       "0     |0     || 0.9990  | 0.0010  |\n",
       "1     |0     || 0.0600  | 0.9400  |\n",
       "0     |1     || 0.7100  | 0.2900  |\n",
       "1     |1     || 0.0500  | 0.9500  |"
      ]
     },
     "execution_count": 17,
     "metadata": {},
     "output_type": "execute_result"
    }
   ],
   "source": [
    "bn.cpt(a)[{'b' : 1, 'e' : 1, 'a' : 1}] = 0.95\n",
    "bn.cpt(a)[{'b' : 1, 'e' : 1, 'a' : 0}] = 0.05\n",
    "bn.cpt(a)[{'b' : 1, 'e' : 0, 'a' : 1}] = 0.94\n",
    "bn.cpt(a)[{'b' : 1, 'e' : 0, 'a' : 0}] = 0.06\n",
    "bn.cpt(a)[{'b' : 0, 'e' : 1, 'a' : 1}] = 0.29\n",
    "bn.cpt(a)[{'b' : 0, 'e' : 1, 'a' : 0}] = 0.71\n",
    "bn.cpt(a)[{'b' : 0, 'e' : 0, 'a' : 1}] = 0.001\n",
    "bn.cpt(a)[{'b' : 0, 'e' : 0, 'a' : 0}] = 0.999\n",
    "bn.cpt(a)"
   ]
  },
  {
   "cell_type": "markdown",
   "id": "b976f7b5",
   "metadata": {},
   "source": [
    "### M"
   ]
  },
  {
   "cell_type": "code",
   "execution_count": 18,
   "id": "873164b4",
   "metadata": {},
   "outputs": [
    {
     "data": {
      "text/html": [
       "<table style=\"border:1px solid black;\">\n",
       "<tr><th colspan='1'></th><th colspan='2' style='border:1px solid black;color:black;background-color:#808080;'><center>m</center></th></tr>\n",
       "<tr><th style='border:1px solid black;color:black;background-color:#808080'><center>a</center></th><th style='border:1px solid black;border-bottom-style: double;color:black;background-color:#BBBBBB'><center>0</center></th><th style='border:1px solid black;border-bottom-style: double;color:black;background-color:#BBBBBB'><center>1</center></th></tr>\n",
       "<tr><th style='border:1px solid black;color:black;background-color:#BBBBBB'><center>0</center></th><td style='color:black;background-color:#80fd64;text-align:right;'>0.9900</td><td style='color:black;background-color:#fd8064;text-align:right;'>0.0100</td></tr>\n",
       "<tr><th style='border:1px solid black;color:black;background-color:#BBBBBB'><center>1</center></th><td style='color:black;background-color:#d8a564;text-align:right;'>0.3000</td><td style='color:black;background-color:#a5d864;text-align:right;'>0.7000</td></tr>\n",
       "</table>"
      ],
      "text/plain": [
       "(gum::Potential<double>@0x17385f0) \n",
       "      ||  m                |\n",
       "a     ||0        |1        |\n",
       "------||---------|---------|\n",
       "0     || 0.9900  | 0.0100  |\n",
       "1     || 0.3000  | 0.7000  |"
      ]
     },
     "execution_count": 18,
     "metadata": {},
     "output_type": "execute_result"
    }
   ],
   "source": [
    "bn.cpt(m)[{'a' : 1, 'm' : 1}] = 0.7\n",
    "bn.cpt(m)[{'a' : 1, 'm' : 0}] = 0.3\n",
    "bn.cpt(m)[{'a' : 0, 'm' : 1}] = 0.01\n",
    "bn.cpt(m)[{'a' : 0, 'm' : 0}] = 0.99\n",
    "bn.cpt(m)"
   ]
  },
  {
   "cell_type": "markdown",
   "id": "7f3dd8c5",
   "metadata": {},
   "source": [
    "### J"
   ]
  },
  {
   "cell_type": "code",
   "execution_count": 19,
   "id": "c6e55194",
   "metadata": {
    "scrolled": true
   },
   "outputs": [
    {
     "data": {
      "text/html": [
       "<table style=\"border:1px solid black;\">\n",
       "<tr><th colspan='1'></th><th colspan='2' style='border:1px solid black;color:black;background-color:#808080;'><center>j</center></th></tr>\n",
       "<tr><th style='border:1px solid black;color:black;background-color:#808080'><center>a</center></th><th style='border:1px solid black;border-bottom-style: double;color:black;background-color:#BBBBBB'><center>0</center></th><th style='border:1px solid black;border-bottom-style: double;color:black;background-color:#BBBBBB'><center>1</center></th></tr>\n",
       "<tr><th style='border:1px solid black;color:black;background-color:#BBBBBB'><center>0</center></th><td style='color:black;background-color:#85f864;text-align:right;'>0.9500</td><td style='color:black;background-color:#f88564;text-align:right;'>0.0500</td></tr>\n",
       "<tr><th style='border:1px solid black;color:black;background-color:#BBBBBB'><center>1</center></th><td style='color:black;background-color:#f28b64;text-align:right;'>0.1000</td><td style='color:black;background-color:#8bf264;text-align:right;'>0.9000</td></tr>\n",
       "</table>"
      ],
      "text/plain": [
       "(gum::Potential<double>@0x18c3d00) \n",
       "      ||  j                |\n",
       "a     ||0        |1        |\n",
       "------||---------|---------|\n",
       "0     || 0.9500  | 0.0500  |\n",
       "1     || 0.1000  | 0.9000  |"
      ]
     },
     "execution_count": 19,
     "metadata": {},
     "output_type": "execute_result"
    }
   ],
   "source": [
    "bn.cpt(j)[{'a' : 1, 'j' : 1}] = 0.9\n",
    "bn.cpt(j)[{'a' : 1, 'j' : 0}] = 0.1\n",
    "bn.cpt(j)[{'a' : 0, 'j' : 1}] = 0.05\n",
    "bn.cpt(j)[{'a' : 0, 'j' : 0}] = 0.95\n",
    "bn.cpt(j)"
   ]
  },
  {
   "cell_type": "markdown",
   "id": "e01cedd4",
   "metadata": {},
   "source": [
    "# Respuestas"
   ]
  },
  {
   "cell_type": "code",
   "execution_count": 20,
   "id": "9b79b7ab",
   "metadata": {},
   "outputs": [],
   "source": [
    "inf1 = gum.LazyPropagation(bn)"
   ]
  },
  {
   "cell_type": "markdown",
   "id": "f490aa64",
   "metadata": {},
   "source": [
    "## $P(+b,-e,+a,-j,+m)$"
   ]
  },
  {
   "cell_type": "code",
   "execution_count": 21,
   "id": "11b5ef3c",
   "metadata": {
    "scrolled": true
   },
   "outputs": [],
   "source": [
    "inf1.addJointTarget({b, e, a, j, m})\n",
    "resg = inf1.jointPosterior({b, e, a, j, m})* ### $Resultado segunda forma$"
   ]
  },
  {
   "cell_type": "markdown",
   "id": "fd0c8fef",
   "metadata": {},
   "source": [
    "* ### $Resultado: primera forma$"
   ]
  },
  {
   "cell_type": "code",
   "execution_count": 22,
   "id": "a04d50e2",
   "metadata": {
    "scrolled": false
   },
   "outputs": [
    {
     "name": "stdout",
     "output_type": "stream",
     "text": [
      "0.006566840000000001 %\n"
     ]
    }
   ],
   "source": [
    "print((resg[0][1][1][0][1]*100), '%')"
   ]
  },
  {
   "cell_type": "markdown",
   "id": "1354f295",
   "metadata": {},
   "source": [
    "## $P(+b,-e,+a,-j,+m) => P(-e) P(+b) P(+m|+a) P(-j|+a) P(+a|-e,+b)$"
   ]
  },
  {
   "cell_type": "markdown",
   "id": "f59e23ce",
   "metadata": {},
   "source": [
    "* ### $P(+a|-e,+b)$"
   ]
  },
  {
   "cell_type": "code",
   "execution_count": 23,
   "id": "ae6388d3",
   "metadata": {},
   "outputs": [
    {
     "name": "stdout",
     "output_type": "stream",
     "text": [
      "4.05594e-05\n"
     ]
    }
   ],
   "source": [
    "print(resg[1][0][1][0][1])"
   ]
  },
  {
   "cell_type": "code",
   "execution_count": 24,
   "id": "50745c91",
   "metadata": {},
   "outputs": [],
   "source": [
    "inf = gum.LazyPropagation(bn)"
   ]
  },
  {
   "cell_type": "code",
   "execution_count": 25,
   "id": "4481e44b",
   "metadata": {},
   "outputs": [
    {
     "name": "stdout",
     "output_type": "stream",
     "text": [
      "0.94\n"
     ]
    }
   ],
   "source": [
    "inf.setEvidence({'e':0, 'b':1})\n",
    "inf.makeInference()\n",
    "a = inf.posterior(a)[1]\n",
    "print(a)"
   ]
  },
  {
   "cell_type": "markdown",
   "id": "cb1e3705",
   "metadata": {},
   "source": [
    "* ### $P(-j|+a)$"
   ]
  },
  {
   "cell_type": "code",
   "execution_count": 26,
   "id": "b6f60c8d",
   "metadata": {},
   "outputs": [
    {
     "name": "stdout",
     "output_type": "stream",
     "text": [
      "0.1\n"
     ]
    }
   ],
   "source": [
    "inf.setEvidence({'a':1})\n",
    "inf.makeInference()\n",
    "j = inf.posterior(j)[0]\n",
    "print(j)"
   ]
  },
  {
   "cell_type": "markdown",
   "id": "cb68749c",
   "metadata": {},
   "source": [
    "* ### $P(+m|+a)$"
   ]
  },
  {
   "cell_type": "code",
   "execution_count": 27,
   "id": "4df701c4",
   "metadata": {},
   "outputs": [
    {
     "name": "stdout",
     "output_type": "stream",
     "text": [
      "0.7\n"
     ]
    }
   ],
   "source": [
    "inf.setEvidence({'a':1})\n",
    "mm = inf.posterior(m)[1]\n",
    "print(mm)"
   ]
  },
  {
   "cell_type": "markdown",
   "id": "1383c773",
   "metadata": {},
   "source": [
    "* ### $P(+b)$"
   ]
  },
  {
   "cell_type": "code",
   "execution_count": 28,
   "id": "6afe729c",
   "metadata": {
    "scrolled": false
   },
   "outputs": [
    {
     "name": "stdout",
     "output_type": "stream",
     "text": [
      "0.001\n"
     ]
    }
   ],
   "source": [
    "b = bn.cpt(b)[1]\n",
    "print(b)"
   ]
  },
  {
   "cell_type": "markdown",
   "id": "83dae2f3",
   "metadata": {},
   "source": [
    "* ### $P(-e)$"
   ]
  },
  {
   "cell_type": "code",
   "execution_count": 29,
   "id": "47846f64",
   "metadata": {
    "scrolled": false
   },
   "outputs": [
    {
     "name": "stdout",
     "output_type": "stream",
     "text": [
      "0.998\n"
     ]
    }
   ],
   "source": [
    "e = bn.cpt(e)[0]\n",
    "print(e)"
   ]
  },
  {
   "cell_type": "markdown",
   "id": "a5cb7e45",
   "metadata": {},
   "source": [
    "* ### $Resultado: segunda forma$"
   ]
  },
  {
   "cell_type": "code",
   "execution_count": 30,
   "id": "791549ee",
   "metadata": {},
   "outputs": [
    {
     "name": "stdout",
     "output_type": "stream",
     "text": [
      "0.94\n",
      "0.001\n",
      "0.998\n",
      "0.1\n",
      "0.7\n",
      "6.56684e-05\n",
      "0.00656684 %\n"
     ]
    }
   ],
   "source": [
    "res = a * b * e * j * mm\n",
    "print(a)\n",
    "print(b)\n",
    "print(e)\n",
    "print(j)\n",
    "print(mm)\n",
    "print(res)\n",
    "print(res*100,'%')"
   ]
  },
  {
   "cell_type": "markdown",
   "id": "6ea28f8d",
   "metadata": {},
   "source": [
    "## $P(M)$"
   ]
  },
  {
   "cell_type": "code",
   "execution_count": 31,
   "id": "d0e05660",
   "metadata": {},
   "outputs": [
    {
     "data": {
      "text/html": [
       "<table style=\"border:1px solid black;\">\n",
       "<tr style='border:1px solid black;color:black;background-color:#808080'><th colspan='2'><center>m</center></th></tr>\n",
       "<tr><th style='border:1px solid black;border-bottom-style: double;color:black;background-color:#BBBBBB'><center>0</center></th><th style='border:1px solid black;border-bottom-style: double;color:black;background-color:#BBBBBB'><center>1</center></th></tr>\n",
       "<tr><td style='color:black;background-color:#d8a564;text-align:right;'>0.3000</td><td style='color:black;background-color:#a5d864;text-align:right;'>0.7000</td></tr>\n",
       "</table>"
      ],
      "text/plain": [
       "(gum::Potential<double>@0x1e209d0) \n",
       "  m                |\n",
       "0        |1        |\n",
       "---------|---------|\n",
       " 0.3000  | 0.7000  |"
      ]
     },
     "execution_count": 31,
     "metadata": {},
     "output_type": "execute_result"
    }
   ],
   "source": [
    "inf.makeInference()\n",
    "inf.posterior(m)"
   ]
  },
  {
   "cell_type": "markdown",
   "id": "00461394",
   "metadata": {},
   "source": [
    "## $P(M|+b,+a)$"
   ]
  },
  {
   "cell_type": "code",
   "execution_count": 32,
   "id": "c9a2ec97",
   "metadata": {},
   "outputs": [
    {
     "data": {
      "text/html": [
       "<table style=\"border:1px solid black;\">\n",
       "<tr style='border:1px solid black;color:black;background-color:#808080'><th colspan='2'><center>m</center></th></tr>\n",
       "<tr><th style='border:1px solid black;border-bottom-style: double;color:black;background-color:#BBBBBB'><center>0</center></th><th style='border:1px solid black;border-bottom-style: double;color:black;background-color:#BBBBBB'><center>1</center></th></tr>\n",
       "<tr><td style='color:black;background-color:#d8a564;text-align:right;'>0.3000</td><td style='color:black;background-color:#a5d864;text-align:right;'>0.7000</td></tr>\n",
       "</table>"
      ],
      "text/plain": [
       "(gum::Potential<double>@0x14759a0) \n",
       "  m                |\n",
       "0        |1        |\n",
       "---------|---------|\n",
       " 0.3000  | 0.7000  |"
      ]
     },
     "execution_count": 32,
     "metadata": {},
     "output_type": "execute_result"
    }
   ],
   "source": [
    "inf.setEvidence({'b':1, 'a':1})\n",
    "inf.makeInference()\n",
    "inf.posterior(m)"
   ]
  }
 ],
 "metadata": {
  "kernelspec": {
   "display_name": "Python 3",
   "language": "python",
   "name": "python3"
  },
  "language_info": {
   "codemirror_mode": {
    "name": "ipython",
    "version": 3
   },
   "file_extension": ".py",
   "mimetype": "text/x-python",
   "name": "python",
   "nbconvert_exporter": "python",
   "pygments_lexer": "ipython3",
   "version": "3.8.5"
  }
 },
 "nbformat": 4,
 "nbformat_minor": 5
}
