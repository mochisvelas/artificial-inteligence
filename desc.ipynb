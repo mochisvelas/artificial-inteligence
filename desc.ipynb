{
 "cells": [
  {
   "cell_type": "code",
   "execution_count": 44,
   "id": "66fdb0b1",
   "metadata": {},
   "outputs": [],
   "source": [
    "import numpy as np"
   ]
  },
  {
   "cell_type": "markdown",
   "id": "bcdfb1fd",
   "metadata": {},
   "source": [
    "# Numpy"
   ]
  },
  {
   "cell_type": "code",
   "execution_count": 29,
   "id": "397c733b",
   "metadata": {},
   "outputs": [
    {
     "data": {
      "text/plain": [
       "array([[  1,   2,  47,  58,  88,  78, 100,  70,  79,  18],\n",
       "       [ 21,  73,  19,  15,  12,  73,  87,  60,  27,  10],\n",
       "       [ 78,  85,  90,  90,  79,  42,   5,  82,  58,  99],\n",
       "       [ 97,  37,  36,  46,  47,  14,  16,  20,   5,  31],\n",
       "       [ 87,  13,  17,  53,  38,  46,  47,  32,  58,  62],\n",
       "       [ 48,  97,  18,  58,  98,  25,  41,  76,  61,  24],\n",
       "       [ 10,  41,  24,  15,  65,   5,  75,  83,  19,  10],\n",
       "       [ 94,   8,  26,  62,  23,  14,  72,  43,  21,  46],\n",
       "       [ 84,  57,  36,  93, 100,  23,  98,  69,  38,  45],\n",
       "       [ 28,  99,  97,  91,  90,  23,  69,  90,  77,  72]])"
      ]
     },
     "execution_count": 29,
     "metadata": {},
     "output_type": "execute_result"
    }
   ],
   "source": [
    "data = np.random.seed(2131982)\n",
    "data = np.random.randint(101, size=(10,10))\n",
    "data"
   ]
  },
  {
   "cell_type": "markdown",
   "id": "68f30e9c",
   "metadata": {},
   "source": [
    "## Media aritmética"
   ]
  },
  {
   "cell_type": "code",
   "execution_count": 30,
   "id": "87de4de5",
   "metadata": {},
   "outputs": [
    {
     "data": {
      "text/plain": [
       "51.29"
      ]
     },
     "execution_count": 30,
     "metadata": {},
     "output_type": "execute_result"
    }
   ],
   "source": [
    "data.mean()"
   ]
  },
  {
   "cell_type": "markdown",
   "id": "9394f47c",
   "metadata": {},
   "source": [
    "## Mediana"
   ]
  },
  {
   "cell_type": "code",
   "execution_count": 31,
   "id": "96803381",
   "metadata": {},
   "outputs": [
    {
     "data": {
      "text/plain": [
       "47.0"
      ]
     },
     "execution_count": 31,
     "metadata": {},
     "output_type": "execute_result"
    }
   ],
   "source": [
    "np.median(data)"
   ]
  },
  {
   "cell_type": "markdown",
   "id": "c234056f",
   "metadata": {},
   "source": [
    "## Desviación típica"
   ]
  },
  {
   "cell_type": "code",
   "execution_count": 33,
   "id": "69c30218",
   "metadata": {},
   "outputs": [
    {
     "data": {
      "text/plain": [
       "30.422128459396134"
      ]
     },
     "execution_count": 33,
     "metadata": {},
     "output_type": "execute_result"
    }
   ],
   "source": [
    "np.std(data)"
   ]
  },
  {
   "cell_type": "markdown",
   "id": "56e82790",
   "metadata": {},
   "source": [
    "## Varianza"
   ]
  },
  {
   "cell_type": "code",
   "execution_count": 35,
   "id": "8d00b72e",
   "metadata": {},
   "outputs": [
    {
     "data": {
      "text/plain": [
       "925.5059000000001"
      ]
     },
     "execution_count": 35,
     "metadata": {},
     "output_type": "execute_result"
    }
   ],
   "source": [
    "np.var(data)"
   ]
  },
  {
   "cell_type": "markdown",
   "id": "7db51c81",
   "metadata": {},
   "source": [
    "## Media aritmética de cada fila"
   ]
  },
  {
   "cell_type": "code",
   "execution_count": 37,
   "id": "3bfd35c4",
   "metadata": {},
   "outputs": [
    {
     "data": {
      "text/plain": [
       "array([54.1, 39.7, 70.8, 34.9, 45.3, 54.6, 34.7, 40.9, 64.3, 73.6])"
      ]
     },
     "execution_count": 37,
     "metadata": {},
     "output_type": "execute_result"
    }
   ],
   "source": [
    "np.mean(data, axis=1)"
   ]
  },
  {
   "cell_type": "markdown",
   "id": "778c7d7c",
   "metadata": {},
   "source": [
    "## Media aritmética de cada columna"
   ]
  },
  {
   "cell_type": "code",
   "execution_count": 38,
   "id": "195681b2",
   "metadata": {},
   "outputs": [
    {
     "data": {
      "text/plain": [
       "array([54.8, 51.2, 41. , 58.1, 64. , 34.3, 61. , 62.5, 44.3, 41.7])"
      ]
     },
     "execution_count": 38,
     "metadata": {},
     "output_type": "execute_result"
    }
   ],
   "source": [
    "np.mean(data, axis=0)"
   ]
  },
  {
   "cell_type": "markdown",
   "id": "04f4f911",
   "metadata": {},
   "source": [
    "## Desviación típica de cada fila"
   ]
  },
  {
   "cell_type": "code",
   "execution_count": 39,
   "id": "47563043",
   "metadata": {},
   "outputs": [
    {
     "data": {
      "text/plain": [
       "array([34.06302981, 28.40088027, 27.02147294, 24.61077   , 20.77522563,\n",
       "       27.51799411, 27.86772327, 26.47054967, 26.95941394, 25.90057914])"
      ]
     },
     "execution_count": 39,
     "metadata": {},
     "output_type": "execute_result"
    }
   ],
   "source": [
    "np.std(data, axis=1)"
   ]
  },
  {
   "cell_type": "markdown",
   "id": "662ee72c",
   "metadata": {},
   "source": [
    "## Desviación típica de cada columna"
   ]
  },
  {
   "cell_type": "code",
   "execution_count": 41,
   "id": "784e7e3c",
   "metadata": {},
   "outputs": [
    {
     "data": {
      "text/plain": [
       "array([35.43105982, 34.76434956, 27.79568312, 26.87173236, 30.46309242,\n",
       "       23.72361692, 31.15124396, 22.27217996, 24.48285114, 27.64434843])"
      ]
     },
     "execution_count": 41,
     "metadata": {},
     "output_type": "execute_result"
    }
   ],
   "source": [
    "np.std(data, axis=0)"
   ]
  },
  {
   "cell_type": "markdown",
   "id": "e27e4736",
   "metadata": {},
   "source": [
    "## Varianza de cada fila"
   ]
  },
  {
   "cell_type": "code",
   "execution_count": 42,
   "id": "b9314329",
   "metadata": {},
   "outputs": [
    {
     "data": {
      "text/plain": [
       "array([1160.29,  806.61,  730.16,  605.69,  431.61,  757.24,  776.61,\n",
       "        700.69,  726.81,  670.84])"
      ]
     },
     "execution_count": 42,
     "metadata": {},
     "output_type": "execute_result"
    }
   ],
   "source": [
    "np.var(data, axis=1)"
   ]
  },
  {
   "cell_type": "markdown",
   "id": "01748f7a",
   "metadata": {},
   "source": [
    "## Varianza de cada columna"
   ]
  },
  {
   "cell_type": "code",
   "execution_count": 43,
   "id": "f329e2d8",
   "metadata": {},
   "outputs": [
    {
     "data": {
      "text/plain": [
       "array([1255.36, 1208.56,  772.6 ,  722.09,  928.  ,  562.81,  970.4 ,\n",
       "        496.05,  599.41,  764.21])"
      ]
     },
     "execution_count": 43,
     "metadata": {},
     "output_type": "execute_result"
    }
   ],
   "source": [
    "np.var(data, axis=0)"
   ]
  },
  {
   "cell_type": "markdown",
   "id": "5bcade14",
   "metadata": {},
   "source": [
    "# Pandas"
   ]
  },
  {
   "cell_type": "code",
   "execution_count": 46,
   "id": "ba4909ed",
   "metadata": {},
   "outputs": [],
   "source": [
    "import pandas as pd"
   ]
  },
  {
   "cell_type": "code",
   "execution_count": 50,
   "id": "57965c8b",
   "metadata": {},
   "outputs": [
    {
     "data": {
      "text/html": [
       "<div>\n",
       "<style scoped>\n",
       "    .dataframe tbody tr th:only-of-type {\n",
       "        vertical-align: middle;\n",
       "    }\n",
       "\n",
       "    .dataframe tbody tr th {\n",
       "        vertical-align: top;\n",
       "    }\n",
       "\n",
       "    .dataframe thead th {\n",
       "        text-align: right;\n",
       "    }\n",
       "</style>\n",
       "<table border=\"1\" class=\"dataframe\">\n",
       "  <thead>\n",
       "    <tr style=\"text-align: right;\">\n",
       "      <th></th>\n",
       "      <th>a</th>\n",
       "      <th>b</th>\n",
       "      <th>c</th>\n",
       "      <th>d</th>\n",
       "      <th>e</th>\n",
       "      <th>f</th>\n",
       "      <th>g</th>\n",
       "      <th>h</th>\n",
       "      <th>i</th>\n",
       "      <th>j</th>\n",
       "    </tr>\n",
       "  </thead>\n",
       "  <tbody>\n",
       "    <tr>\n",
       "      <th>1</th>\n",
       "      <td>1</td>\n",
       "      <td>2</td>\n",
       "      <td>47</td>\n",
       "      <td>58</td>\n",
       "      <td>88</td>\n",
       "      <td>78</td>\n",
       "      <td>100</td>\n",
       "      <td>70</td>\n",
       "      <td>79</td>\n",
       "      <td>18</td>\n",
       "    </tr>\n",
       "    <tr>\n",
       "      <th>2</th>\n",
       "      <td>21</td>\n",
       "      <td>73</td>\n",
       "      <td>19</td>\n",
       "      <td>15</td>\n",
       "      <td>12</td>\n",
       "      <td>73</td>\n",
       "      <td>87</td>\n",
       "      <td>60</td>\n",
       "      <td>27</td>\n",
       "      <td>10</td>\n",
       "    </tr>\n",
       "    <tr>\n",
       "      <th>3</th>\n",
       "      <td>78</td>\n",
       "      <td>85</td>\n",
       "      <td>90</td>\n",
       "      <td>90</td>\n",
       "      <td>79</td>\n",
       "      <td>42</td>\n",
       "      <td>5</td>\n",
       "      <td>82</td>\n",
       "      <td>58</td>\n",
       "      <td>99</td>\n",
       "    </tr>\n",
       "    <tr>\n",
       "      <th>4</th>\n",
       "      <td>97</td>\n",
       "      <td>37</td>\n",
       "      <td>36</td>\n",
       "      <td>46</td>\n",
       "      <td>47</td>\n",
       "      <td>14</td>\n",
       "      <td>16</td>\n",
       "      <td>20</td>\n",
       "      <td>5</td>\n",
       "      <td>31</td>\n",
       "    </tr>\n",
       "    <tr>\n",
       "      <th>5</th>\n",
       "      <td>87</td>\n",
       "      <td>13</td>\n",
       "      <td>17</td>\n",
       "      <td>53</td>\n",
       "      <td>38</td>\n",
       "      <td>46</td>\n",
       "      <td>47</td>\n",
       "      <td>32</td>\n",
       "      <td>58</td>\n",
       "      <td>62</td>\n",
       "    </tr>\n",
       "    <tr>\n",
       "      <th>6</th>\n",
       "      <td>48</td>\n",
       "      <td>97</td>\n",
       "      <td>18</td>\n",
       "      <td>58</td>\n",
       "      <td>98</td>\n",
       "      <td>25</td>\n",
       "      <td>41</td>\n",
       "      <td>76</td>\n",
       "      <td>61</td>\n",
       "      <td>24</td>\n",
       "    </tr>\n",
       "    <tr>\n",
       "      <th>7</th>\n",
       "      <td>10</td>\n",
       "      <td>41</td>\n",
       "      <td>24</td>\n",
       "      <td>15</td>\n",
       "      <td>65</td>\n",
       "      <td>5</td>\n",
       "      <td>75</td>\n",
       "      <td>83</td>\n",
       "      <td>19</td>\n",
       "      <td>10</td>\n",
       "    </tr>\n",
       "    <tr>\n",
       "      <th>8</th>\n",
       "      <td>94</td>\n",
       "      <td>8</td>\n",
       "      <td>26</td>\n",
       "      <td>62</td>\n",
       "      <td>23</td>\n",
       "      <td>14</td>\n",
       "      <td>72</td>\n",
       "      <td>43</td>\n",
       "      <td>21</td>\n",
       "      <td>46</td>\n",
       "    </tr>\n",
       "    <tr>\n",
       "      <th>9</th>\n",
       "      <td>84</td>\n",
       "      <td>57</td>\n",
       "      <td>36</td>\n",
       "      <td>93</td>\n",
       "      <td>100</td>\n",
       "      <td>23</td>\n",
       "      <td>98</td>\n",
       "      <td>69</td>\n",
       "      <td>38</td>\n",
       "      <td>45</td>\n",
       "    </tr>\n",
       "    <tr>\n",
       "      <th>10</th>\n",
       "      <td>28</td>\n",
       "      <td>99</td>\n",
       "      <td>97</td>\n",
       "      <td>91</td>\n",
       "      <td>90</td>\n",
       "      <td>23</td>\n",
       "      <td>69</td>\n",
       "      <td>90</td>\n",
       "      <td>77</td>\n",
       "      <td>72</td>\n",
       "    </tr>\n",
       "  </tbody>\n",
       "</table>\n",
       "</div>"
      ],
      "text/plain": [
       "     a   b   c   d    e   f    g   h   i   j\n",
       "1    1   2  47  58   88  78  100  70  79  18\n",
       "2   21  73  19  15   12  73   87  60  27  10\n",
       "3   78  85  90  90   79  42    5  82  58  99\n",
       "4   97  37  36  46   47  14   16  20   5  31\n",
       "5   87  13  17  53   38  46   47  32  58  62\n",
       "6   48  97  18  58   98  25   41  76  61  24\n",
       "7   10  41  24  15   65   5   75  83  19  10\n",
       "8   94   8  26  62   23  14   72  43  21  46\n",
       "9   84  57  36  93  100  23   98  69  38  45\n",
       "10  28  99  97  91   90  23   69  90  77  72"
      ]
     },
     "execution_count": 50,
     "metadata": {},
     "output_type": "execute_result"
    }
   ],
   "source": [
    "dataframe = pd.DataFrame(data, index=['1', '2', '3', '4', '5', '6', '7', '8', '9', '10'], columns=['a', 'b', 'c', 'd', 'e', 'f', 'g', 'h', 'i', 'j'])\n",
    "dataframe"
   ]
  },
  {
   "cell_type": "markdown",
   "id": "5a233ba0",
   "metadata": {},
   "source": [
    "## Describe"
   ]
  },
  {
   "cell_type": "code",
   "execution_count": 51,
   "id": "9ab2d5fc",
   "metadata": {
    "scrolled": true
   },
   "outputs": [
    {
     "data": {
      "text/html": [
       "<div>\n",
       "<style scoped>\n",
       "    .dataframe tbody tr th:only-of-type {\n",
       "        vertical-align: middle;\n",
       "    }\n",
       "\n",
       "    .dataframe tbody tr th {\n",
       "        vertical-align: top;\n",
       "    }\n",
       "\n",
       "    .dataframe thead th {\n",
       "        text-align: right;\n",
       "    }\n",
       "</style>\n",
       "<table border=\"1\" class=\"dataframe\">\n",
       "  <thead>\n",
       "    <tr style=\"text-align: right;\">\n",
       "      <th></th>\n",
       "      <th>a</th>\n",
       "      <th>b</th>\n",
       "      <th>c</th>\n",
       "      <th>d</th>\n",
       "      <th>e</th>\n",
       "      <th>f</th>\n",
       "      <th>g</th>\n",
       "      <th>h</th>\n",
       "      <th>i</th>\n",
       "      <th>j</th>\n",
       "    </tr>\n",
       "  </thead>\n",
       "  <tbody>\n",
       "    <tr>\n",
       "      <th>count</th>\n",
       "      <td>10.000000</td>\n",
       "      <td>10.000000</td>\n",
       "      <td>10.000000</td>\n",
       "      <td>10.000000</td>\n",
       "      <td>10.000000</td>\n",
       "      <td>10.000000</td>\n",
       "      <td>10.000000</td>\n",
       "      <td>10.000000</td>\n",
       "      <td>10.000000</td>\n",
       "      <td>10.000000</td>\n",
       "    </tr>\n",
       "    <tr>\n",
       "      <th>mean</th>\n",
       "      <td>54.800000</td>\n",
       "      <td>51.200000</td>\n",
       "      <td>41.000000</td>\n",
       "      <td>58.100000</td>\n",
       "      <td>64.000000</td>\n",
       "      <td>34.300000</td>\n",
       "      <td>61.000000</td>\n",
       "      <td>62.500000</td>\n",
       "      <td>44.300000</td>\n",
       "      <td>41.700000</td>\n",
       "    </tr>\n",
       "    <tr>\n",
       "      <th>std</th>\n",
       "      <td>37.347616</td>\n",
       "      <td>36.644842</td>\n",
       "      <td>29.299223</td>\n",
       "      <td>28.325293</td>\n",
       "      <td>32.110919</td>\n",
       "      <td>25.006888</td>\n",
       "      <td>32.836294</td>\n",
       "      <td>23.476939</td>\n",
       "      <td>25.807191</td>\n",
       "      <td>29.139702</td>\n",
       "    </tr>\n",
       "    <tr>\n",
       "      <th>min</th>\n",
       "      <td>1.000000</td>\n",
       "      <td>2.000000</td>\n",
       "      <td>17.000000</td>\n",
       "      <td>15.000000</td>\n",
       "      <td>12.000000</td>\n",
       "      <td>5.000000</td>\n",
       "      <td>5.000000</td>\n",
       "      <td>20.000000</td>\n",
       "      <td>5.000000</td>\n",
       "      <td>10.000000</td>\n",
       "    </tr>\n",
       "    <tr>\n",
       "      <th>25%</th>\n",
       "      <td>22.750000</td>\n",
       "      <td>19.000000</td>\n",
       "      <td>20.250000</td>\n",
       "      <td>47.750000</td>\n",
       "      <td>40.250000</td>\n",
       "      <td>16.250000</td>\n",
       "      <td>42.500000</td>\n",
       "      <td>47.250000</td>\n",
       "      <td>22.500000</td>\n",
       "      <td>19.500000</td>\n",
       "    </tr>\n",
       "    <tr>\n",
       "      <th>50%</th>\n",
       "      <td>63.000000</td>\n",
       "      <td>49.000000</td>\n",
       "      <td>31.000000</td>\n",
       "      <td>58.000000</td>\n",
       "      <td>72.000000</td>\n",
       "      <td>24.000000</td>\n",
       "      <td>70.500000</td>\n",
       "      <td>69.500000</td>\n",
       "      <td>48.000000</td>\n",
       "      <td>38.000000</td>\n",
       "    </tr>\n",
       "    <tr>\n",
       "      <th>75%</th>\n",
       "      <td>86.250000</td>\n",
       "      <td>82.000000</td>\n",
       "      <td>44.250000</td>\n",
       "      <td>83.000000</td>\n",
       "      <td>89.500000</td>\n",
       "      <td>45.000000</td>\n",
       "      <td>84.000000</td>\n",
       "      <td>80.500000</td>\n",
       "      <td>60.250000</td>\n",
       "      <td>58.000000</td>\n",
       "    </tr>\n",
       "    <tr>\n",
       "      <th>max</th>\n",
       "      <td>97.000000</td>\n",
       "      <td>99.000000</td>\n",
       "      <td>97.000000</td>\n",
       "      <td>93.000000</td>\n",
       "      <td>100.000000</td>\n",
       "      <td>78.000000</td>\n",
       "      <td>100.000000</td>\n",
       "      <td>90.000000</td>\n",
       "      <td>79.000000</td>\n",
       "      <td>99.000000</td>\n",
       "    </tr>\n",
       "  </tbody>\n",
       "</table>\n",
       "</div>"
      ],
      "text/plain": [
       "               a          b          c          d           e          f  \\\n",
       "count  10.000000  10.000000  10.000000  10.000000   10.000000  10.000000   \n",
       "mean   54.800000  51.200000  41.000000  58.100000   64.000000  34.300000   \n",
       "std    37.347616  36.644842  29.299223  28.325293   32.110919  25.006888   \n",
       "min     1.000000   2.000000  17.000000  15.000000   12.000000   5.000000   \n",
       "25%    22.750000  19.000000  20.250000  47.750000   40.250000  16.250000   \n",
       "50%    63.000000  49.000000  31.000000  58.000000   72.000000  24.000000   \n",
       "75%    86.250000  82.000000  44.250000  83.000000   89.500000  45.000000   \n",
       "max    97.000000  99.000000  97.000000  93.000000  100.000000  78.000000   \n",
       "\n",
       "                g          h          i          j  \n",
       "count   10.000000  10.000000  10.000000  10.000000  \n",
       "mean    61.000000  62.500000  44.300000  41.700000  \n",
       "std     32.836294  23.476939  25.807191  29.139702  \n",
       "min      5.000000  20.000000   5.000000  10.000000  \n",
       "25%     42.500000  47.250000  22.500000  19.500000  \n",
       "50%     70.500000  69.500000  48.000000  38.000000  \n",
       "75%     84.000000  80.500000  60.250000  58.000000  \n",
       "max    100.000000  90.000000  79.000000  99.000000  "
      ]
     },
     "execution_count": 51,
     "metadata": {},
     "output_type": "execute_result"
    }
   ],
   "source": [
    "dataframe.describe()"
   ]
  },
  {
   "cell_type": "markdown",
   "id": "e18ee9c1",
   "metadata": {},
   "source": [
    "## ¿Son coherentes los datos entre Nupy y Pandas?\n",
    "Sí lo son, primeramente se puede observar que los valores de la mediana de cada columna retornadas por Numpy, son iguales a la descricpción de Pandas; por otro lado, si bien los valores no son iguales para el caso del a desviación estándar, estas se asemejan bastante."
   ]
  }
 ],
 "metadata": {
  "kernelspec": {
   "display_name": "Python 3",
   "language": "python",
   "name": "python3"
  },
  "language_info": {
   "codemirror_mode": {
    "name": "ipython",
    "version": 3
   },
   "file_extension": ".py",
   "mimetype": "text/x-python",
   "name": "python",
   "nbconvert_exporter": "python",
   "pygments_lexer": "ipython3",
   "version": "3.8.5"
  }
 },
 "nbformat": 4,
 "nbformat_minor": 5
}
